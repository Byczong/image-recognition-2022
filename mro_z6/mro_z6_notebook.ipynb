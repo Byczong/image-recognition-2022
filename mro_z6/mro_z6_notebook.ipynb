{
 "cells": [
  {
   "cell_type": "markdown",
   "id": "6e5ea5c6",
   "metadata": {},
   "source": [
    "Metody rozpoznawania obrazów - zadanie 6\n",
    "\n",
    "**Piotr Zawiślan**"
   ]
  },
  {
   "cell_type": "markdown",
   "id": "2cf69ae1",
   "metadata": {},
   "source": [
    "**Konwolucje jednak niepotrzebne...**"
   ]
  },
  {
   "cell_type": "markdown",
   "id": "7903b5e7",
   "metadata": {},
   "source": [
    "Konwolucyjne sieci neuronowe działają bardzo dobrze w zadaniu rozpoznawania obrazów i przez długi czas królowały w benchmark-ach. W ostatnim czasie jednak, zrodziła się pewna rewolucja w podejściu do przetwarzania obrazów zainspirowana osiągnięciami z dziedziny przetwarzania języka naturalnego. Chodzi o tzw. Transformery, czyli sieci neuronowe z mechanizem uwagi - Self-Attention. Wykazano, że mechanizm ten może, całkowicie zastąpić konwolucje w zadaniach rozpoznawania obrazów. \n",
    "\n",
    "Dziś zaimplementujemy sobie takiego Transformera i zbadamy jego działanie.\n",
    "- W przypadku punktów oznaczonych ikoną ⌨️ poinformuj w jaki sposób je zrealizowałeś - wspomnij kluczowe klasy/metody/funkcje lub załącz powiązany fragment kodu źródłowego.\n",
    "- W przypadku punktów oznaczonych ikoną 🖼️ załącz w raporcie obraz przedstawiający efekt danej operacji."
   ]
  },
  {
   "cell_type": "code",
   "execution_count": 1,
   "id": "9c6cebe6",
   "metadata": {},
   "outputs": [],
   "source": [
    "import numpy as np\n",
    "import pandas as pd\n",
    "import torch\n",
    "import os\n",
    "import random\n",
    "import matplotlib.pyplot as plt\n",
    "import seaborn as sns\n",
    "from time import perf_counter\n",
    "from pathlib import Path"
   ]
  },
  {
   "cell_type": "code",
   "execution_count": 2,
   "id": "cc1e02ea",
   "metadata": {},
   "outputs": [
    {
     "data": {
      "text/plain": [
       "True"
      ]
     },
     "execution_count": 2,
     "metadata": {},
     "output_type": "execute_result"
    }
   ],
   "source": [
    "torch.cuda.is_available()"
   ]
  },
  {
   "cell_type": "code",
   "execution_count": 3,
   "id": "cfc4dd9e",
   "metadata": {},
   "outputs": [],
   "source": [
    "np.random.seed(311)\n",
    "torch.manual_seed(311)\n",
    "\n",
    "PLOTS_PATH = os.path.join(\".\", \"plots\")\n",
    "os.makedirs(PLOTS_PATH, exist_ok=True)"
   ]
  },
  {
   "cell_type": "code",
   "execution_count": 4,
   "id": "0a1d40ee",
   "metadata": {},
   "outputs": [],
   "source": [
    "def save_fig(fig_id, tight_layout=True, fig_extension=\"png\", resolution=300):\n",
    "    path = os.path.join(PLOTS_PATH, fig_id + \".\" + fig_extension)\n",
    "    print(\"Saving figure\", fig_id)\n",
    "    if tight_layout:\n",
    "        plt.tight_layout()\n",
    "    plt.savefig(path, format=fig_extension, dpi=resolution)"
   ]
  },
  {
   "cell_type": "code",
   "execution_count": 5,
   "id": "981ea8d0",
   "metadata": {},
   "outputs": [],
   "source": [
    "def plot_image(image: torch.Tensor, title=None, save=False, fig_id=None, cmap='gray'):\n",
    "    ndim = np.array(image.detach()).ndim\n",
    "    \n",
    "    if image.min().item() < 0:\n",
    "        image = (image - image.min().item())  / (image - image.min().item() + image.max().item())\n",
    "    \n",
    "    if ndim == 2:\n",
    "        plt.imshow(image.detach().numpy(), cmap=cmap)\n",
    "    elif ndim == 3:\n",
    "        if image.shape[0] == 1:\n",
    "            plt.imshow(image[0].detach().numpy(), cmap=cmap)\n",
    "        else:\n",
    "            plt.imshow(np.moveaxis(image.detach().numpy(), 0, -1))\n",
    "    else:\n",
    "        return\n",
    "    if title:\n",
    "        plt.title(title)\n",
    "    plt.axis(\"off\")\n",
    "    if save and fig_id is not None:\n",
    "        save_fig(fig_id)\n",
    "    plt.show()"
   ]
  },
  {
   "cell_type": "code",
   "execution_count": 6,
   "id": "880717ca",
   "metadata": {},
   "outputs": [],
   "source": [
    "LOSS_Y_LIM = (0., 2.5)\n",
    "TIME_Y_LIM = (50., 80.)\n",
    "\n",
    "def plot_train_stats(train_loss_list, train_acc_list, \n",
    "                     val_loss_list, val_acc_list, \n",
    "                     train_time_list,\n",
    "                     fig_id=None):\n",
    "    \n",
    "    fig, (ax1, ax2, ax3) = plt.subplots(3, 1)\n",
    "    fig.subplots_adjust(hspace=0.4)\n",
    "    fig.set_size_inches(12, 12)\n",
    "    \n",
    "    epochs_range = np.arange(0, len(train_loss_list))\n",
    "    \n",
    "    # Loss\n",
    "    ax1.plot(epochs_range, train_loss_list, 'y.', label='train')\n",
    "    ax1.plot(epochs_range, val_loss_list, 'c-', label='val')\n",
    "    ax1.set_title(\"Loss\")\n",
    "    ax1.set_ylim(*LOSS_Y_LIM)\n",
    "    ax1.grid()\n",
    "    ax1.legend()\n",
    "    \n",
    "    # Accuracy\n",
    "    ax2.plot(epochs_range, train_acc_list, 'b.', label='train')\n",
    "    ax2.plot(epochs_range, val_acc_list, 'm-', label='val')\n",
    "    ax2.set_title(\"Accuracy\")\n",
    "    ax2.set_ylim(-0.1, 1.1)\n",
    "    ax2.grid()\n",
    "    ax2.legend()\n",
    "    \n",
    "    # Time\n",
    "    ax3.plot(epochs_range, train_time_list, 'g--')\n",
    "    ax3.set_title(\"Training time\")\n",
    "    ax3.set_ylim(*TIME_Y_LIM)\n",
    "    ax3.set_xlabel(\"epochs\")\n",
    "    ax3.grid()\n",
    "    \n",
    "    if fig_id is not None:\n",
    "        save_fig(fig_id)\n",
    "    plt.show()"
   ]
  },
  {
   "cell_type": "markdown",
   "id": "0b26ceaf",
   "metadata": {},
   "source": [
    "# Przygotowanie danych"
   ]
  },
  {
   "cell_type": "markdown",
   "id": "6700d47f",
   "metadata": {},
   "source": [
    "Do treningu użyjemy zbioru CIFAR-10 urozmaicając go za pomocą augmentacji. Augmentacja ma na celu zmniejszenie prawdopodobieństwa overfittingu. Modyfikujemy obrazy wycinając ich fragmenty, biorąc odbicie lustrzane i tym podobne operacje, aby urozmaicić zbiór i wprowadzić do niego nieregularności.\n",
    "\n",
    "1. Przygotuj następującą sekwencję transformacji danych: `RandomHorizontalFlip` $\\rightarrow$ `RandomResizedCrop` $\\rightarrow$ `Normalize`. Opisz czego używasz. ⌨️\n",
    "\n",
    "`RandomHorizontalFlip` - z prawdopodobieństwem 0.5 odwraca obraz przez oś y, tj. robi odbicie lustrzane (a nie odwraca do góry nogami).\n",
    "\n",
    "`RandomResizedCrop` - wycina z obrazu losowy fragment i skaluje go z powrotem do wielkości oryginalnego obrazu. Rozmiar wycinka określ na przedział <0.8 - 1.0> wielkości oryginału, a aspect ratio między 0.9, a 1.1.\n",
    "\n",
    "`Normalize` - zastosuj normalizację do średniej 0 i wariancji 1 (dla kadżdego kanału osobno). Do tej operacji wyciągnij wartości średniej i odchylenia standardowego ze zbioru treningowego.\n",
    "\n",
    "2. Tak przygotowaną procedurę augmentacji przypnij w miejsce odpowiednie dla Twojego framework-a. Może to być Data Loader albo część modelu. Opisz jak to się robi w twoim framework-u. ⌨️\n",
    "3. Pobierz, załaduj i przygotuj zbiór danych CIFAR-10 do treningu. (1 pkt.)"
   ]
  },
  {
   "cell_type": "code",
   "execution_count": 7,
   "id": "41ceba52",
   "metadata": {},
   "outputs": [],
   "source": [
    "from torch.utils.data import Dataset, DataLoader, random_split, Subset\n",
    "from torchvision import datasets\n",
    "from torchvision.transforms import (\n",
    "    Compose,\n",
    "    Lambda,\n",
    "    ToTensor,\n",
    "    ConvertImageDtype,\n",
    "    RandomHorizontalFlip,\n",
    "    RandomResizedCrop,\n",
    "    Normalize\n",
    ")"
   ]
  },
  {
   "cell_type": "code",
   "execution_count": 8,
   "id": "53b3948a",
   "metadata": {},
   "outputs": [
    {
     "name": "stdout",
     "output_type": "stream",
     "text": [
      "Files already downloaded and verified\n",
      "Files already downloaded and verified\n"
     ]
    }
   ],
   "source": [
    "cifar_train_ds = datasets.CIFAR10(\n",
    "    root=\"data\",\n",
    "    train=True,\n",
    "    download=True,\n",
    "    transform=Compose([ToTensor(), \n",
    "                       ConvertImageDtype(torch.float)]),\n",
    "    target_transform=Lambda(\n",
    "        lambda y: torch.zeros(10, dtype=torch.float).scatter_(0, torch.tensor(y), value=1)\n",
    "    )\n",
    ")\n",
    "\n",
    "cifar_test_ds = datasets.CIFAR10(\n",
    "    root=\"data\",\n",
    "    train=False,\n",
    "    download=True,\n",
    "    transform=Compose([ToTensor(), \n",
    "                       ConvertImageDtype(torch.float)]),\n",
    "    target_transform=Lambda(\n",
    "        lambda y: torch.zeros(10, dtype=torch.float).scatter_(0, torch.tensor(y), value=1)\n",
    "    )\n",
    ")"
   ]
  },
  {
   "cell_type": "code",
   "execution_count": 9,
   "id": "8360c1aa",
   "metadata": {},
   "outputs": [
    {
     "data": {
      "text/plain": [
       "torch.Size([3, 32, 32])"
      ]
     },
     "execution_count": 9,
     "metadata": {},
     "output_type": "execute_result"
    }
   ],
   "source": [
    "cifar_train_ds[0][0].shape"
   ]
  },
  {
   "cell_type": "code",
   "execution_count": 10,
   "id": "ee26cd5f",
   "metadata": {},
   "outputs": [],
   "source": [
    "int_class_dict = {v: k for k, v in cifar_train_ds.class_to_idx.items()}"
   ]
  },
  {
   "cell_type": "code",
   "execution_count": 11,
   "id": "a86989b0",
   "metadata": {},
   "outputs": [],
   "source": [
    "get_class_from_label: callable = lambda y: int_class_dict[torch.argmax(y).item()]"
   ]
  },
  {
   "cell_type": "code",
   "execution_count": 12,
   "id": "1746e632",
   "metadata": {},
   "outputs": [
    {
     "data": {
      "text/plain": [
       "Compose(\n",
       "    ToTensor()\n",
       "    ConvertImageDtype()\n",
       ")"
      ]
     },
     "execution_count": 12,
     "metadata": {},
     "output_type": "execute_result"
    }
   ],
   "source": [
    "cifar_train_ds.transform"
   ]
  },
  {
   "cell_type": "code",
   "execution_count": 13,
   "id": "a7e2cc36",
   "metadata": {},
   "outputs": [],
   "source": [
    "cifar_train_ds.transform = Compose([\n",
    "    ToTensor(),\n",
    "    RandomHorizontalFlip(p=0.5),\n",
    "    RandomResizedCrop(size=32, scale=(0.8, 1.0), ratio=(0.9, 1.1)),\n",
    "    Normalize(\n",
    "        mean=tuple((cifar_train_ds.data / 255).mean(axis=(0, 1, 2))), \n",
    "        std=tuple((cifar_train_ds.data / 255).std(axis=(0, 1, 2)))\n",
    "    ),\n",
    "    ConvertImageDtype(torch.float)\n",
    "])"
   ]
  },
  {
   "cell_type": "code",
   "execution_count": 14,
   "id": "24497ea3",
   "metadata": {},
   "outputs": [],
   "source": [
    "cifar_test_ds.transform = Compose([\n",
    "    ToTensor(),\n",
    "    RandomHorizontalFlip(p=0.5),\n",
    "    RandomResizedCrop(size=32, scale=(0.8, 1.0), ratio=(0.9, 1.1)),\n",
    "    Normalize(\n",
    "        mean=tuple((cifar_train_ds.data / 255).mean(axis=(0, 1, 2))), \n",
    "        std=tuple((cifar_train_ds.data / 255).std(axis=(0, 1, 2)))\n",
    "    ),\n",
    "    ConvertImageDtype(torch.float)\n",
    "])"
   ]
  },
  {
   "cell_type": "markdown",
   "id": "7f165f16",
   "metadata": {},
   "source": [
    "# Cięcie obrazu na fragmenty"
   ]
  },
  {
   "cell_type": "markdown",
   "id": "5458ca3c",
   "metadata": {},
   "source": [
    "Sieci typu transformer operują na zbiorach danych, np. na zdaniach złożonych z sekwencji słów, tworzących jedną zrozumiałą całość. Dzięki temu sieć podczas inferencji może kojarzyć ze sobą poszczególne elementy zbioru, tak aby wyciągnąć z nich sensowną wiedzę.\n",
    "\n",
    "Aby użyć transformerów do przetwarzania obrazów musimy każdy obraz zamienić jakoś na sekwencję danych. W tym celu będziemy je kroić na kawałki (patch-e) i z tych kawałków robić sekwencję. Coś w stylu zamiany obrazu na zdanie.\n",
    "\n",
    "4. Przygotuj procedurę zamieniającą batch obrazów na batch sekwencji patch-y. Opisz jej działanie. ⌨️\n",
    "\n",
    "Poszczególne patch-e nie powinny na siebie nachodzić. Procedura powinna móc przygotować patch-e o dowolnym rozmiarze (ale kwadratowe), tj. jej argumentem powinien być rozmiar patch-a.\n",
    "\n",
    "5. Przetestuj działanie procedury tnącej na patche, zwizualizuj wynik (wyświetl patch-e). 🖼️"
   ]
  },
  {
   "cell_type": "code",
   "execution_count": 15,
   "id": "6e3ed39b",
   "metadata": {},
   "outputs": [],
   "source": [
    "def get_square_patches_from_batch(X: torch.Tensor, size: int) -> torch.Tensor:\n",
    "    \"\"\"Returns tensor of patches with shape [B, H // size, W // size, C, size, size]\"\"\"\n",
    "    assert X.ndim == 4, 'ndim should be 4'\n",
    "    batch_size, n_channels, n_rows, n_cols = X.shape\n",
    "    step = size\n",
    "    patches = X.unfold(2, size, step).unfold(3, size, step).permute(0, 2, 3, 1, 4, 5)\n",
    "    return patches"
   ]
  },
  {
   "cell_type": "code",
   "execution_count": 16,
   "id": "14ab824e",
   "metadata": {},
   "outputs": [],
   "source": [
    "bird = cifar_train_ds[6][0]"
   ]
  },
  {
   "cell_type": "code",
   "execution_count": 17,
   "id": "b1ec88e8",
   "metadata": {},
   "outputs": [],
   "source": [
    "boat = cifar_train_ds[8][0]"
   ]
  },
  {
   "cell_type": "code",
   "execution_count": 18,
   "id": "14c9e369",
   "metadata": {},
   "outputs": [
    {
     "data": {
      "text/plain": [
       "torch.Size([2, 3, 32, 32])"
      ]
     },
     "execution_count": 18,
     "metadata": {},
     "output_type": "execute_result"
    }
   ],
   "source": [
    "bird_boat_batch = torch.cat([bird.unsqueeze(0), boat.unsqueeze(0)])\n",
    "bird_boat_batch.shape"
   ]
  },
  {
   "cell_type": "code",
   "execution_count": 19,
   "id": "5a3726dc",
   "metadata": {},
   "outputs": [
    {
     "data": {
      "text/plain": [
       "torch.Size([2, 4, 4, 3, 8, 8])"
      ]
     },
     "execution_count": 19,
     "metadata": {},
     "output_type": "execute_result"
    }
   ],
   "source": [
    "patches = get_square_patches_from_batch(\n",
    "    bird_boat_batch,\n",
    "    size=8\n",
    ")\n",
    "patches.shape"
   ]
  },
  {
   "cell_type": "code",
   "execution_count": 20,
   "id": "046c1009",
   "metadata": {},
   "outputs": [],
   "source": [
    "maybe_bird_patches = patches[0]"
   ]
  },
  {
   "cell_type": "code",
   "execution_count": 21,
   "id": "db3960d4",
   "metadata": {},
   "outputs": [],
   "source": [
    "def plot_patches(image_patches: torch.Tensor, save=False, fig_id=None):\n",
    "    assert image_patches.ndim == 5, 'image_patches ndim should be 5'\n",
    "    \n",
    "    n_patches_h, n_patches_w, _, size, _ = image_patches.shape\n",
    "    fig, axs = plt.subplots(nrows=n_patches_h, ncols=n_patches_w, \n",
    "                            constrained_layout=True, figsize=(8, 8))\n",
    "    \n",
    "    for i in range(n_patches_h):\n",
    "        for j in range(n_patches_w):\n",
    "            image = np.moveaxis(image_patches[i, j].numpy(), 0, -1)\n",
    "            if image.min().item() < 0:\n",
    "                image = (image - image.min().item())  / \\\n",
    "                        (image - image.min().item() + image.max().item())\n",
    "            axs[i, j].axis(\"off\")\n",
    "            axs[i, j].imshow(image)\n",
    "    \n",
    "    if save and fig_id is not None:\n",
    "        save_fig(fig_id, tight_layout=False)\n",
    "    \n",
    "    plt.show()"
   ]
  },
  {
   "cell_type": "code",
   "execution_count": 22,
   "id": "d6651143",
   "metadata": {},
   "outputs": [
    {
     "name": "stdout",
     "output_type": "stream",
     "text": [
      "Saving figure bird\n"
     ]
    },
    {
     "data": {
      "image/png": "[encoded data removed]",
      "text/plain": [
       "<Figure size 640x480 with 1 Axes>"
      ]
     },
     "metadata": {},
     "output_type": "display_data"
    }
   ],
   "source": [
    "plot_image(bird, save=True, fig_id='bird')"
   ]
  },
  {
   "cell_type": "code",
   "execution_count": 23,
   "id": "37d6f6b8",
   "metadata": {},
   "outputs": [
    {
     "name": "stdout",
     "output_type": "stream",
     "text": [
      "Saving figure bird_patches\n"
     ]
    },
    {
     "data": {
      "image/png": "[encoded data removed]",
      "text/plain": [
       "<Figure size 800x800 with 16 Axes>"
      ]
     },
     "metadata": {},
     "output_type": "display_data"
    }
   ],
   "source": [
    "plot_patches(maybe_bird_patches, save=True, fig_id='bird_patches')"
   ]
  },
  {
   "cell_type": "markdown",
   "id": "104d600a",
   "metadata": {},
   "source": [
    "# Definicja modelu"
   ]
  },
  {
   "cell_type": "markdown",
   "id": "83e1b5b6",
   "metadata": {},
   "source": [
    "Stworzymy sobie model Vision Transformera jak w artykule \"An Image is Worth 16X16 Words\", z jedną modyfikacją. Layer norm zastosujemy przed warstwami liniowymy, a nie po połączeniach rezydualnych. Schemat modelu powinien być taki jak na rysunku poniżej.\n",
    "\n",
    "![](architektura.png)\n",
    "\n",
    "6. Zdefiniuj model sieci według diagramu. Opisz w jaki sposób go tworzysz, jeśli się da wyświetl jego computation graph, dla pewności, że wszystko jest połączone jak należy. ⌨️ 🖼️"
   ]
  },
  {
   "cell_type": "markdown",
   "id": "dee6e3f5",
   "metadata": {},
   "source": [
    "Do prawidłowej implementacji będziesz potrzebować warst typu: multihead attention, liniowych, layer norm, dropout. Oprócz tego potrzebne będą połączenia rezydualne, a jako funkcje aktywacji użyjemy GELU. Nie zapomnij także o dodatkowym tokenie na pozycji zerowej pełniącym funkcję class token-a. Na podstawie tego tokenu będzie wykonywana klasyfikacja.\n",
    "\n",
    "Skorzystaj z gotowych implementacji warstwy multihead attention dostępnych w twoim framework-u.\n",
    "\n",
    "Pierwszym krokiem w forward pass powinno być zamienianie obrazu na sekwencję patch-y o wielkości 4.\n",
    "\n",
    "Patche należy zamienić na embeddingi przy pomocy warstwy liniowej. Wielkość tensora wyjściowego z embeddingu powinna wynosić 256. Do embeddingów patch-y dodaj positional embedding (tensor do nauczenia).\n",
    "\n",
    "Każda warstwa ukryta (liniowa) w bloku transformera powinna mieć wielkość 512. Natomiast multihead-attention powinna mieć 8 \"głów\". Warstwa transformera na wejściu bierze tensor o wielkości 256 i na wyjściu też daje tensor o wielkości 256, czyli operuje na rozmiarze takim jaki ustaliliśmy dla embeddingu. W sumie potrzeba 6 bloków typu transfromer, jeden po drugim.\n",
    "\n",
    "Ostatnim elementem modelu jest pojedyncza warstwa gęsta/liniowa (poprzedzona layer norm), która jest połączona jedynie z class token.\n",
    "\n",
    "Wszystkim dropout-om ustaw prawdopodobieństwo zerowania połączeń na 0.2."
   ]
  },
  {
   "cell_type": "code",
   "execution_count": 24,
   "id": "1f9b8b74",
   "metadata": {},
   "outputs": [],
   "source": [
    "from torch import nn"
   ]
  },
  {
   "cell_type": "code",
   "execution_count": 25,
   "id": "75d920cf",
   "metadata": {},
   "outputs": [],
   "source": [
    "class VisionTransformer(nn.Module):\n",
    "    def __init__(self, emb_size=256, n_heads=8, dropout_rate=0.2) -> None:\n",
    "        super().__init__()\n",
    "        \n",
    "        self.emb_size: int = emb_size\n",
    "        self.n_heads: int = n_heads\n",
    "        self.dropout_rate: float = dropout_rate\n",
    "        \n",
    "        self.layer_norm_1 = nn.LayerNorm(normalized_shape=self.emb_size)\n",
    "        self.mh_attention = nn.MultiheadAttention(\n",
    "            embed_dim=self.emb_size, \n",
    "            num_heads=self.n_heads,\n",
    "            batch_first=True\n",
    "        )\n",
    "        \n",
    "        self.layer_norm_2 = nn.LayerNorm(normalized_shape=self.emb_size)\n",
    "        self.mlp_1 = nn.Linear(in_features=self.emb_size, out_features=2*self.emb_size)\n",
    "        self.gelu = nn.GELU()\n",
    "        self.dropout_1 = nn.Dropout(self.dropout_rate)\n",
    "        \n",
    "        self.mlp_2 = nn.Linear(in_features=2*self.emb_size, out_features=self.emb_size)\n",
    "        self.dropout_2 = nn.Dropout(self.dropout_rate)\n",
    "\n",
    "    def forward(self, X: torch.Tensor) -> torch.Tensor:\n",
    "        X_norm = self.layer_norm_1(X)\n",
    "        \n",
    "        mh_attention_output, _ = self.mh_attention(\n",
    "            query=X_norm,\n",
    "            key=X_norm,\n",
    "            value=X_norm\n",
    "        )\n",
    "        \n",
    "        residual_add_1 = mh_attention_output + X\n",
    "        \n",
    "        X_mlp_1 = self.layer_norm_2(residual_add_1)\n",
    "        X_mlp_1 = self.mlp_1(X_mlp_1)\n",
    "        X_mlp_1 = self.gelu(X_mlp_1)\n",
    "        result_mlp_1 = self.dropout_1(X_mlp_1)\n",
    "        \n",
    "        X_mlp_2 = self.mlp_2(result_mlp_1)\n",
    "        result_mlp_2 = self.dropout_2(X_mlp_2)\n",
    "        \n",
    "        residual_add_2 = residual_add_1 + result_mlp_2\n",
    "        \n",
    "        return residual_add_2"
   ]
  },
  {
   "cell_type": "code",
   "execution_count": 26,
   "id": "8421ec49",
   "metadata": {},
   "outputs": [],
   "source": [
    "vit_test = VisionTransformer()"
   ]
  },
  {
   "cell_type": "code",
   "execution_count": 27,
   "id": "7a70ce36",
   "metadata": {
    "scrolled": false
   },
   "outputs": [
    {
     "data": {
      "text/plain": [
       "torch.Size([32, 192, 256])"
      ]
     },
     "execution_count": 27,
     "metadata": {},
     "output_type": "execute_result"
    }
   ],
   "source": [
    "test_X = torch.rand(32, 192, 256)\n",
    "\n",
    "vit_test(test_X).shape"
   ]
  },
  {
   "cell_type": "code",
   "execution_count": 28,
   "id": "37a4eca9",
   "metadata": {},
   "outputs": [],
   "source": [
    "class ToPatches(nn.Module):\n",
    "    \"\"\"\n",
    "    Transforms image to flattened patches.\n",
    "    \n",
    "    [B, C, H, W] -> [B, H // size, W // size, C, size, size] ->\n",
    "    [B, N (n_patches), P (size_of_flattened_patch)]\n",
    "    \"\"\"\n",
    "\n",
    "    def __init__(self, patch_size=4) -> None:\n",
    "        super().__init__()\n",
    "        self.patch_size: int = patch_size\n",
    "\n",
    "    def forward(self, X: torch.Tensor) -> torch.Tensor:        \n",
    "        patches = get_square_patches_from_batch(X, size=self.patch_size)\n",
    "        flat_patches = patches.flatten(start_dim=3).flatten(start_dim=1, end_dim=2)\n",
    "        return flat_patches"
   ]
  },
  {
   "cell_type": "code",
   "execution_count": 29,
   "id": "6ae8b2f4",
   "metadata": {},
   "outputs": [],
   "source": [
    "class CifarViTClassifier(nn.Module):\n",
    "    def __init__(\n",
    "        self,\n",
    "        n_classes=10,\n",
    "        patch_size=4, \n",
    "        n_attention_heads=8,\n",
    "        n_transformers=6,\n",
    "        emb_size=256, \n",
    "        image_size=32, \n",
    "        dropout_rate=0.2\n",
    "    ) -> None:\n",
    "        \n",
    "        super().__init__()\n",
    "        \n",
    "        self.n_classes: int = n_classes\n",
    "        self.patch_size: int = patch_size\n",
    "        self.n_attention_heads: int = n_attention_heads\n",
    "        self.n_transformers: int = n_transformers\n",
    "        self.emb_size: int = emb_size\n",
    "        self.image_size: int = image_size\n",
    "        self.dropout_rate: float = dropout_rate\n",
    "        \n",
    "        assert image_size % patch_size == 0, 'image_size should be divisible by patch_size'\n",
    "        \n",
    "        self.patch_dim: int = 3 * self.patch_size**2\n",
    "        self.n_patches: int = (self.image_size // self.patch_size)**2\n",
    "        \n",
    "        # learnable parameters\n",
    "        self.pos_embedding = nn.Parameter(torch.randn(1, self.n_patches + 1, self.emb_size))\n",
    "        self.cls_token = nn.Parameter(torch.randn(1, 1, self.emb_size))\n",
    "        \n",
    "        # image -> patches -> patches_embedding\n",
    "        self.to_patch_embedding = nn.Sequential(\n",
    "            ToPatches(patch_size=self.patch_size),\n",
    "            nn.Linear(in_features=self.patch_dim, out_features=self.emb_size)\n",
    "        )\n",
    "        \n",
    "        self.input_dropout = nn.Dropout(p=self.dropout_rate)\n",
    "        \n",
    "        # self.n_transformers x transformers\n",
    "        self.transformers_seq = nn.Sequential(*[\n",
    "            VisionTransformer(\n",
    "                emb_size=self.emb_size,\n",
    "                n_heads=self.n_attention_heads,\n",
    "                dropout_rate=self.dropout_rate\n",
    "            ) for _ in range(self.n_transformers)\n",
    "        ])\n",
    "        \n",
    "        # linear head\n",
    "        self.mlp_head = nn.Sequential(\n",
    "            nn.LayerNorm(self.emb_size),\n",
    "            nn.Linear(self.emb_size, self.n_classes)\n",
    "        )\n",
    "\n",
    "\n",
    "    def forward(self, X: torch.Tensor) -> torch.Tensor:\n",
    "        batch_size = X.shape[0]\n",
    "        embedded_patches = self.to_patch_embedding(X)\n",
    "        \n",
    "        \n",
    "        cls_tokens = self.cls_token.expand(batch_size, -1, -1)\n",
    "        embedded_patches_with_cls = torch.cat((cls_tokens, embedded_patches), dim=1)\n",
    "        embedded_patches_with_cls += self.pos_embedding\n",
    "\n",
    "        trans_X = self.input_dropout(embedded_patches_with_cls)\n",
    "        trans_output = self.transformers_seq(trans_X)\n",
    "        \n",
    "        cls_tokens_out = trans_output[:, 0, :]\n",
    "        \n",
    "        result = self.mlp_head(cls_tokens_out)\n",
    "        return result"
   ]
  },
  {
   "cell_type": "code",
   "execution_count": 30,
   "id": "fd97a40c",
   "metadata": {},
   "outputs": [
    {
     "data": {
      "text/plain": [
       "torch.Size([2, 3, 32, 32])"
      ]
     },
     "execution_count": 30,
     "metadata": {},
     "output_type": "execute_result"
    }
   ],
   "source": [
    "bird_boat_batch.shape"
   ]
  },
  {
   "cell_type": "code",
   "execution_count": 31,
   "id": "5d2fb2c1",
   "metadata": {},
   "outputs": [],
   "source": [
    "vit_classifier = CifarViTClassifier()"
   ]
  },
  {
   "cell_type": "code",
   "execution_count": 32,
   "id": "883df5c4",
   "metadata": {},
   "outputs": [
    {
     "name": "stdout",
     "output_type": "stream",
     "text": [
      "tensor([[ 0.0324,  0.7091,  0.1972, -0.4126,  0.3027, -0.2542, -0.2531,  0.6209,\n",
      "          0.0287,  0.1389]])\n"
     ]
    }
   ],
   "source": [
    "with torch.no_grad():\n",
    "    print(vit_classifier(bird.unsqueeze(0)))"
   ]
  },
  {
   "cell_type": "code",
   "execution_count": 33,
   "id": "ac8c3637",
   "metadata": {},
   "outputs": [
    {
     "data": {
      "text/plain": [
       "CifarViTClassifier(\n",
       "  (to_patch_embedding): Sequential(\n",
       "    (0): ToPatches()\n",
       "    (1): Linear(in_features=48, out_features=256, bias=True)\n",
       "  )\n",
       "  (input_dropout): Dropout(p=0.2, inplace=False)\n",
       "  (transformers_seq): Sequential(\n",
       "    (0): VisionTransformer(\n",
       "      (layer_norm_1): LayerNorm((256,), eps=1e-05, elementwise_affine=True)\n",
       "      (mh_attention): MultiheadAttention(\n",
       "        (out_proj): NonDynamicallyQuantizableLinear(in_features=256, out_features=256, bias=True)\n",
       "      )\n",
       "      (layer_norm_2): LayerNorm((256,), eps=1e-05, elementwise_affine=True)\n",
       "      (mlp_1): Linear(in_features=256, out_features=512, bias=True)\n",
       "      (gelu): GELU(approximate=none)\n",
       "      (dropout_1): Dropout(p=0.2, inplace=False)\n",
       "      (mlp_2): Linear(in_features=512, out_features=256, bias=True)\n",
       "      (dropout_2): Dropout(p=0.2, inplace=False)\n",
       "    )\n",
       "    (1): VisionTransformer(\n",
       "      (layer_norm_1): LayerNorm((256,), eps=1e-05, elementwise_affine=True)\n",
       "      (mh_attention): MultiheadAttention(\n",
       "        (out_proj): NonDynamicallyQuantizableLinear(in_features=256, out_features=256, bias=True)\n",
       "      )\n",
       "      (layer_norm_2): LayerNorm((256,), eps=1e-05, elementwise_affine=True)\n",
       "      (mlp_1): Linear(in_features=256, out_features=512, bias=True)\n",
       "      (gelu): GELU(approximate=none)\n",
       "      (dropout_1): Dropout(p=0.2, inplace=False)\n",
       "      (mlp_2): Linear(in_features=512, out_features=256, bias=True)\n",
       "      (dropout_2): Dropout(p=0.2, inplace=False)\n",
       "    )\n",
       "    (2): VisionTransformer(\n",
       "      (layer_norm_1): LayerNorm((256,), eps=1e-05, elementwise_affine=True)\n",
       "      (mh_attention): MultiheadAttention(\n",
       "        (out_proj): NonDynamicallyQuantizableLinear(in_features=256, out_features=256, bias=True)\n",
       "      )\n",
       "      (layer_norm_2): LayerNorm((256,), eps=1e-05, elementwise_affine=True)\n",
       "      (mlp_1): Linear(in_features=256, out_features=512, bias=True)\n",
       "      (gelu): GELU(approximate=none)\n",
       "      (dropout_1): Dropout(p=0.2, inplace=False)\n",
       "      (mlp_2): Linear(in_features=512, out_features=256, bias=True)\n",
       "      (dropout_2): Dropout(p=0.2, inplace=False)\n",
       "    )\n",
       "    (3): VisionTransformer(\n",
       "      (layer_norm_1): LayerNorm((256,), eps=1e-05, elementwise_affine=True)\n",
       "      (mh_attention): MultiheadAttention(\n",
       "        (out_proj): NonDynamicallyQuantizableLinear(in_features=256, out_features=256, bias=True)\n",
       "      )\n",
       "      (layer_norm_2): LayerNorm((256,), eps=1e-05, elementwise_affine=True)\n",
       "      (mlp_1): Linear(in_features=256, out_features=512, bias=True)\n",
       "      (gelu): GELU(approximate=none)\n",
       "      (dropout_1): Dropout(p=0.2, inplace=False)\n",
       "      (mlp_2): Linear(in_features=512, out_features=256, bias=True)\n",
       "      (dropout_2): Dropout(p=0.2, inplace=False)\n",
       "    )\n",
       "    (4): VisionTransformer(\n",
       "      (layer_norm_1): LayerNorm((256,), eps=1e-05, elementwise_affine=True)\n",
       "      (mh_attention): MultiheadAttention(\n",
       "        (out_proj): NonDynamicallyQuantizableLinear(in_features=256, out_features=256, bias=True)\n",
       "      )\n",
       "      (layer_norm_2): LayerNorm((256,), eps=1e-05, elementwise_affine=True)\n",
       "      (mlp_1): Linear(in_features=256, out_features=512, bias=True)\n",
       "      (gelu): GELU(approximate=none)\n",
       "      (dropout_1): Dropout(p=0.2, inplace=False)\n",
       "      (mlp_2): Linear(in_features=512, out_features=256, bias=True)\n",
       "      (dropout_2): Dropout(p=0.2, inplace=False)\n",
       "    )\n",
       "    (5): VisionTransformer(\n",
       "      (layer_norm_1): LayerNorm((256,), eps=1e-05, elementwise_affine=True)\n",
       "      (mh_attention): MultiheadAttention(\n",
       "        (out_proj): NonDynamicallyQuantizableLinear(in_features=256, out_features=256, bias=True)\n",
       "      )\n",
       "      (layer_norm_2): LayerNorm((256,), eps=1e-05, elementwise_affine=True)\n",
       "      (mlp_1): Linear(in_features=256, out_features=512, bias=True)\n",
       "      (gelu): GELU(approximate=none)\n",
       "      (dropout_1): Dropout(p=0.2, inplace=False)\n",
       "      (mlp_2): Linear(in_features=512, out_features=256, bias=True)\n",
       "      (dropout_2): Dropout(p=0.2, inplace=False)\n",
       "    )\n",
       "  )\n",
       "  (mlp_head): Sequential(\n",
       "    (0): LayerNorm((256,), eps=1e-05, elementwise_affine=True)\n",
       "    (1): Linear(in_features=256, out_features=10, bias=True)\n",
       "  )\n",
       ")"
      ]
     },
     "execution_count": 33,
     "metadata": {},
     "output_type": "execute_result"
    }
   ],
   "source": [
    "vit_classifier"
   ]
  },
  {
   "cell_type": "markdown",
   "id": "2e67e810",
   "metadata": {},
   "source": [
    "# Trening"
   ]
  },
  {
   "cell_type": "markdown",
   "id": "63fb43e8",
   "metadata": {},
   "source": [
    "7. Wytrenuj tak przygotowaną sieć korzystając z poniższych ustawień. Puść 160 epok. (Jeżeli nie masz GPU, zredukuj ilość epok)\n",
    "\n",
    "Aby przyspieszyć trening naszej sieci posłużymy się optimizer-em AdamW, który jest modyfikacą optimizer-a Adam. Użyjemy także learning rate scheduler, tj. procedurę, która w epoce nr 100 i 150 pomnoży learning rate o 0.1.\n",
    "\n",
    "Jako loss function użyj Cross Entropy (categorical)\n",
    "\n",
    "Na wyjściu z naszej sieci mamy wektor liczb. Największa z nich wyznacza klasę jaką sieć przypisuje obrazowi. Tzn. aby wyznaczyć indeks klasy obrazy należy wykonać operację argmax na wektorze wynikowym sieci.\n",
    "\n",
    "*Jeżeli trenujesz na mniejszej liczbie epok zmodyfikuj milestone-y schedulera. Jeżeli twój framework nie udostępnia tego typu LR schedulera to użyj innego, możliwie podobnego.*\n",
    "\n",
    "8. Przedstaw wyniki wytrenowanej sieci. Oprócz podania wyniku liczbowego sprawdź na kilku przykładowych obrazach. ⌨️ 🖼️"
   ]
  },
  {
   "cell_type": "code",
   "execution_count": 34,
   "id": "2f21331e",
   "metadata": {},
   "outputs": [],
   "source": [
    "from torch.optim import AdamW\n",
    "from torch.optim.lr_scheduler import MultiStepLR"
   ]
  },
  {
   "cell_type": "code",
   "execution_count": 35,
   "id": "3a32f5b2",
   "metadata": {},
   "outputs": [],
   "source": [
    "def train_step(\n",
    "    model: nn.Module, \n",
    "    data_loader: DataLoader, \n",
    "    loss_fn: nn.CrossEntropyLoss, \n",
    "    optimizer\n",
    ") -> None:\n",
    "    \n",
    "    num_batches = len(data_loader)\n",
    "    epoch_loss = 0.\n",
    "    epoch_correct_preds = 0\n",
    "    model.train()\n",
    "    t_start = perf_counter()\n",
    "    \n",
    "    for batch, (X, y) in enumerate(data_loader):\n",
    "        X, y = X.to('cuda'), y.to('cuda')\n",
    "        optimizer.zero_grad()\n",
    "        prediction = model(X)\n",
    "        assert prediction.shape == y.shape, \\\n",
    "            f\"prediction [{prediction.shape}] and y [{y.shape}] shapes does not match\"\n",
    "        loss = loss_fn(prediction, y)\n",
    "        loss.backward()\n",
    "        optimizer.step()\n",
    "        epoch_loss += loss.item()\n",
    "        correct_preds = (prediction.argmax(dim=1) == y.argmax(dim=1)).count_nonzero().item()\n",
    "        epoch_correct_preds += correct_preds\n",
    "    \n",
    "    t_end = perf_counter()\n",
    "    epoch_train_time = t_end - t_start\n",
    "    epoch_avg_loss = epoch_loss / num_batches\n",
    "    epoch_avg_acc = epoch_correct_preds / (num_batches * data_loader.batch_size)\n",
    "    \n",
    "    return epoch_avg_loss, epoch_avg_acc, epoch_train_time"
   ]
  },
  {
   "cell_type": "code",
   "execution_count": 36,
   "id": "69b9cfa9",
   "metadata": {},
   "outputs": [],
   "source": [
    "def val_step(\n",
    "    model: nn.Module, \n",
    "    data_loader: DataLoader, \n",
    "    loss_fn: nn.CrossEntropyLoss\n",
    ") -> None:\n",
    "    \n",
    "    num_batches = len(data_loader)\n",
    "    epoch_loss = 0.\n",
    "    epoch_correct_preds = 0\n",
    "    model.eval()\n",
    "    with torch.no_grad():\n",
    "        for batch, (X, y) in enumerate(data_loader):\n",
    "            X, y = X.to('cuda'), y.to('cuda')\n",
    "            prediction = model(X)\n",
    "            assert prediction.shape == y.shape, \\\n",
    "                f\"prediction [{prediction.shape}] and y [{y.shape}] shapes does not match\"\n",
    "            loss = loss_fn(prediction, y)\n",
    "            epoch_loss += loss.item()\n",
    "            correct_preds = (prediction.argmax(dim=1) == y.argmax(dim=1)).count_nonzero().item()\n",
    "            epoch_correct_preds += correct_preds\n",
    "        \n",
    "        epoch_avg_loss = epoch_loss / num_batches\n",
    "        epoch_avg_acc = epoch_correct_preds / (num_batches * data_loader.batch_size)\n",
    "        \n",
    "        return epoch_avg_loss, epoch_avg_acc"
   ]
  },
  {
   "cell_type": "code",
   "execution_count": 35,
   "id": "4f1cf5f4",
   "metadata": {},
   "outputs": [
    {
     "name": "stdout",
     "output_type": "stream",
     "text": [
      "================ epoch 000 ================\n",
      "Train | acc: 0.405 loss: 1.6297 train_time: 66.36 s\n",
      "Val | acc: 0.481 loss: 1.4140\n",
      "================ epoch 010 ================\n",
      "Train | acc: 0.649 loss: 0.9825 train_time: 62.84 s\n",
      "Val | acc: 0.644 loss: 0.9959\n",
      "================ epoch 020 ================\n",
      "Train | acc: 0.737 loss: 0.7383 train_time: 63.26 s\n",
      "Val | acc: 0.701 loss: 0.8414\n",
      "================ epoch 030 ================\n",
      "Train | acc: 0.801 loss: 0.5558 train_time: 63.83 s\n",
      "Val | acc: 0.736 loss: 0.7618\n",
      "================ epoch 040 ================\n",
      "Train | acc: 0.846 loss: 0.4256 train_time: 65.14 s\n",
      "Val | acc: 0.749 loss: 0.7755\n",
      "================ epoch 050 ================\n",
      "Train | acc: 0.884 loss: 0.3233 train_time: 65.13 s\n",
      "Val | acc: 0.754 loss: 0.7950\n",
      "================ epoch 060 ================\n",
      "Train | acc: 0.910 loss: 0.2478 train_time: 65.00 s\n",
      "Val | acc: 0.751 loss: 0.8632\n",
      "================ epoch 070 ================\n",
      "Train | acc: 0.930 loss: 0.1921 train_time: 65.16 s\n",
      "Val | acc: 0.751 loss: 0.9449\n",
      "================ epoch 080 ================\n",
      "Train | acc: 0.941 loss: 0.1655 train_time: 62.26 s\n",
      "Val | acc: 0.752 loss: 0.9718\n",
      "================ epoch 090 ================\n",
      "Train | acc: 0.948 loss: 0.1428 train_time: 66.37 s\n",
      "Val | acc: 0.754 loss: 1.0118\n",
      "================ epoch 100 ================\n",
      "Train | acc: 0.974 loss: 0.0733 train_time: 62.37 s\n",
      "Val | acc: 0.771 loss: 0.9962\n",
      "================ epoch 110 ================\n",
      "Train | acc: 0.990 loss: 0.0264 train_time: 68.08 s\n",
      "Val | acc: 0.783 loss: 1.1028\n",
      "================ epoch 120 ================\n",
      "Train | acc: 0.994 loss: 0.0179 train_time: 66.41 s\n",
      "Val | acc: 0.778 loss: 1.1817\n",
      "================ epoch 130 ================\n",
      "Train | acc: 0.994 loss: 0.0163 train_time: 66.47 s\n",
      "Val | acc: 0.775 loss: 1.2878\n",
      "================ epoch 140 ================\n",
      "Train | acc: 0.994 loss: 0.0147 train_time: 62.36 s\n",
      "Val | acc: 0.775 loss: 1.2762\n",
      "================ epoch 150 ================\n",
      "Train | acc: 0.995 loss: 0.0135 train_time: 67.27 s\n",
      "Val | acc: 0.778 loss: 1.3190\n",
      "================ training ended ================\n",
      "Train | acc: 0.996 loss: 0.0097 train_time: 64.99 s\n",
      "Val | acc: 0.780 loss: 1.2982\n"
     ]
    }
   ],
   "source": [
    "vit_model = CifarViTClassifier().to('cuda')\n",
    "vit_model.requires_grad_(True)\n",
    "\n",
    "loss_function = nn.CrossEntropyLoss().cuda()\n",
    "\n",
    "optimizer = AdamW(\n",
    "    vit_model.parameters(),\n",
    "    lr=5e-4\n",
    ")\n",
    "\n",
    "lr_scheduler = MultiStepLR(\n",
    "    optimizer=optimizer,\n",
    "    milestones=[100, 150],\n",
    "    gamma=0.1\n",
    ")\n",
    "\n",
    "train_data_loader = DataLoader(cifar_train_ds, batch_size=64, shuffle=True)\n",
    "test_data_loader = DataLoader(cifar_test_ds, batch_size=64, shuffle=True)\n",
    "\n",
    "train_loss_acc_time_list = []\n",
    "val_loss_acc_list = []\n",
    "\n",
    "max_test_acc = 0.\n",
    "early_stopped_vit_model = CifarViTClassifier().to('cuda')\n",
    "early_stopped_vit_model.load_state_dict(vit_model.state_dict())\n",
    "\n",
    "n_epochs = 160\n",
    "\n",
    "for epoch in range(n_epochs):\n",
    "    avg_train_loss, avg_train_acc, epoch_train_time = train_step(\n",
    "        vit_model, \n",
    "        train_data_loader,\n",
    "        loss_function,\n",
    "        optimizer\n",
    "    )\n",
    "    \n",
    "    avg_val_loss, avg_val_acc = val_step(\n",
    "        vit_model, \n",
    "        test_data_loader,\n",
    "        loss_function\n",
    "    )\n",
    "    \n",
    "    lr_scheduler.step()\n",
    "    \n",
    "    train_loss_acc_time_list.append((avg_train_loss, avg_train_acc, epoch_train_time))\n",
    "    val_loss_acc_list.append((avg_val_loss, avg_val_acc))\n",
    "    \n",
    "    if avg_val_acc > max_test_acc:\n",
    "        max_test_acc = avg_val_acc\n",
    "        early_stopped_vit_model.load_state_dict(vit_model.state_dict())\n",
    "    \n",
    "    if i % 10 == 0:\n",
    "        print('='*16 + f\" epoch {epoch:0>3} \" + '='*16)\n",
    "        print(f\"Train | acc: {avg_train_acc:.3f} loss: {avg_train_loss:.4f}\", end=' ')\n",
    "        print(f\"train_time: {epoch_train_time:.2f} s\")\n",
    "        print(f\"Val | acc: {avg_val_acc:.3f} loss: {avg_val_loss:.4f}\")\n",
    "    \n",
    "    if epoch in (10, 25, 50, 100, 125):\n",
    "        torch.save(vit_model.state_dict(), Path.cwd() / f'vit-cifar10-{epoch}.pt')\n",
    "\n",
    "print('='*16 + f\" training ended \" + '='*16)\n",
    "print(f\"Train | acc: {avg_train_acc:.3f} loss: {avg_train_loss:.4f}\", end=' ')\n",
    "print(f\"train_time: {epoch_train_time:.2f} s\")\n",
    "print(f\"Val | acc: {avg_val_acc:.3f} loss: {avg_val_loss:.4f}\")"
   ]
  },
  {
   "cell_type": "code",
   "execution_count": 36,
   "id": "59a52cd2",
   "metadata": {},
   "outputs": [],
   "source": [
    "# torch.save(vit_model.state_dict(), Path.cwd() / 'vit-cifar10-160.pt')"
   ]
  },
  {
   "cell_type": "code",
   "execution_count": 39,
   "id": "56e483a2",
   "metadata": {},
   "outputs": [],
   "source": [
    "train_loss_list, train_acc_list, train_time_list = \\\n",
    "    list(zip(*train_loss_acc_time_list))\n",
    "\n",
    "val_loss_list, val_acc_list = list(zip(*val_loss_acc_list))"
   ]
  },
  {
   "cell_type": "code",
   "execution_count": 40,
   "id": "51f130dc",
   "metadata": {},
   "outputs": [
    {
     "name": "stdout",
     "output_type": "stream",
     "text": [
      "Saving figure training_stats\n"
     ]
    },
    {
     "data": {
      "image/png": "[encoded data removed]",
      "text/plain": [
       "<Figure size 1200x1200 with 3 Axes>"
      ]
     },
     "metadata": {},
     "output_type": "display_data"
    }
   ],
   "source": [
    "plot_train_stats(train_loss_list, train_acc_list, \n",
    "                 val_loss_list, val_acc_list, \n",
    "                 train_time_list,\n",
    "                 fig_id='training_stats')"
   ]
  },
  {
   "cell_type": "code",
   "execution_count": 110,
   "id": "5e299b06",
   "metadata": {},
   "outputs": [
    {
     "name": "stdout",
     "output_type": "stream",
     "text": [
      "tensor([[-1.8534, -1.3578, 17.2570, -5.7278, -0.9811, -0.5323, -0.8393,  2.3303,\n",
      "         -6.7388, -7.8683]], device='cuda:0')\n"
     ]
    }
   ],
   "source": [
    "with torch.no_grad():\n",
    "    print(vit_model(bird.unsqueeze(0).to('cuda')))"
   ]
  },
  {
   "cell_type": "code",
   "execution_count": 50,
   "id": "8e52759f",
   "metadata": {},
   "outputs": [
    {
     "data": {
      "image/png": "[encoded data removed]",
      "text/plain": [
       "<Figure size 640x480 with 1 Axes>"
      ]
     },
     "metadata": {},
     "output_type": "display_data"
    },
    {
     "name": "stdout",
     "output_type": "stream",
     "text": [
      "frog\n",
      "frog\n"
     ]
    }
   ],
   "source": [
    "frog, y = cifar_test_ds[4]\n",
    "plot_image(frog)\n",
    "print(get_class_from_label(y))\n",
    "with torch.no_grad():\n",
    "    pred = vit_model(frog.unsqueeze(0)).flatten()\n",
    "    print(get_class_from_label(pred))"
   ]
  },
  {
   "cell_type": "code",
   "execution_count": 52,
   "id": "e2e282c6",
   "metadata": {},
   "outputs": [
    {
     "data": {
      "image/png": "[encoded data removed]",
      "text/plain": [
       "<Figure size 640x480 with 1 Axes>"
      ]
     },
     "metadata": {},
     "output_type": "display_data"
    },
    {
     "name": "stdout",
     "output_type": "stream",
     "text": [
      "truck\n",
      "truck\n"
     ]
    }
   ],
   "source": [
    "truck, y = cifar_test_ds[11]\n",
    "plot_image(truck)\n",
    "print(get_class_from_label(y))\n",
    "with torch.no_grad():\n",
    "    pred = vit_model(truck.unsqueeze(0)).flatten()\n",
    "    print(get_class_from_label(pred))"
   ]
  },
  {
   "cell_type": "code",
   "execution_count": 53,
   "id": "7c75c52b",
   "metadata": {},
   "outputs": [
    {
     "data": {
      "image/png": "[encoded data removed]",
      "text/plain": [
       "<Figure size 640x480 with 1 Axes>"
      ]
     },
     "metadata": {},
     "output_type": "display_data"
    },
    {
     "name": "stdout",
     "output_type": "stream",
     "text": [
      "ship\n",
      "ship\n"
     ]
    }
   ],
   "source": [
    "sailboat, y = cifar_test_ds[55]\n",
    "plot_image(sailboat)\n",
    "print(get_class_from_label(y))\n",
    "with torch.no_grad():\n",
    "    pred = vit_model(sailboat.unsqueeze(0)).flatten()\n",
    "    print(get_class_from_label(pred))"
   ]
  },
  {
   "cell_type": "markdown",
   "id": "c1b7c620",
   "metadata": {},
   "source": [
    "9. [Bonus dla zainteresowanych, + 5 pkt] Zwizualizuj uwagę sieci na wybranym obrazku przy pomocy metody Attention Rollout. Opisz jak to działa. ⌨️ 🖼️"
   ]
  },
  {
   "cell_type": "code",
   "execution_count": 37,
   "id": "f5f623d8",
   "metadata": {},
   "outputs": [],
   "source": [
    "vit_model_state_dict = torch.load('vit-cifar10-160.pt')\n",
    "vit_model = CifarViTClassifier()\n",
    "vit_model.requires_grad_(False)\n",
    "vit_model.load_state_dict(vit_model_state_dict)\n",
    "vit_model.eval()\n",
    "pass"
   ]
  },
  {
   "cell_type": "code",
   "execution_count": 38,
   "id": "3c9218e4",
   "metadata": {},
   "outputs": [],
   "source": [
    "vit_model_clone = CifarViTClassifier()\n",
    "vit_model_clone.requires_grad_(False)\n",
    "vit_model_clone.load_state_dict(vit_model.state_dict())\n",
    "vit_model_clone.eval()\n",
    "pass"
   ]
  },
  {
   "cell_type": "code",
   "execution_count": 39,
   "id": "150de9b4",
   "metadata": {},
   "outputs": [],
   "source": [
    "def get_mha_matrix_from_nth_transformer(\n",
    "    vit_m: CifarViTClassifier, \n",
    "    n: int,\n",
    "    image: torch.Tensor\n",
    ") -> torch.Tensor:\n",
    "    \"\"\"Get multi-head attention matrix from nth transformer using a forward hook.\"\"\"\n",
    "    \n",
    "    result_activation = None\n",
    "    \n",
    "    def output_hook(model, _input, _output_tuple):\n",
    "        nonlocal result_activation\n",
    "        result_activation = _output_tuple[1].detach()\n",
    "    \n",
    "    handle = vit_m.transformers_seq[n].mh_attention.register_forward_hook(output_hook)\n",
    "\n",
    "    _ = vit_m(image.unsqueeze(0))\n",
    "    \n",
    "    handle.remove()\n",
    "    \n",
    "    return result_activation.squeeze()"
   ]
  },
  {
   "cell_type": "code",
   "execution_count": 40,
   "id": "f94d7cd7",
   "metadata": {
    "scrolled": true
   },
   "outputs": [
    {
     "data": {
      "text/plain": [
       "torch.Size([65, 65])"
      ]
     },
     "execution_count": 40,
     "metadata": {},
     "output_type": "execute_result"
    }
   ],
   "source": [
    "bird_attention = get_mha_matrix_from_nth_transformer(vit_model_clone, 0, bird)\n",
    "bird_attention.shape"
   ]
  },
  {
   "cell_type": "code",
   "execution_count": 41,
   "id": "b4a6f784",
   "metadata": {},
   "outputs": [],
   "source": [
    "def get_patches_attention_map(\n",
    "    vit_m: CifarViTClassifier,\n",
    "    image: torch.Tensor\n",
    ") -> torch.Tensor:\n",
    "    \n",
    "    att_map = get_mha_matrix_from_nth_transformer(vit_m, 0, image)\n",
    "    for i in range(1, vit_m.n_transformers):\n",
    "        ith_att_map = get_mha_matrix_from_nth_transformer(vit_m, i, image)\n",
    "        att_map = att_map.T @ ith_att_map\n",
    "    \n",
    "    return att_map"
   ]
  },
  {
   "cell_type": "code",
   "execution_count": 42,
   "id": "537be58f",
   "metadata": {},
   "outputs": [],
   "source": [
    "bird_att_map = get_patches_attention_map(vit_model, bird)"
   ]
  },
  {
   "cell_type": "code",
   "execution_count": 43,
   "id": "8883cde3",
   "metadata": {},
   "outputs": [
    {
     "data": {
      "text/plain": [
       "tensor([[0.0282, 0.0366, 0.0308,  ..., 0.0302, 0.0266, 0.0478],\n",
       "        [0.0087, 0.0113, 0.0095,  ..., 0.0093, 0.0082, 0.0148],\n",
       "        [0.0112, 0.0146, 0.0123,  ..., 0.0120, 0.0106, 0.0191],\n",
       "        ...,\n",
       "        [0.0162, 0.0211, 0.0177,  ..., 0.0174, 0.0153, 0.0275],\n",
       "        [0.0111, 0.0144, 0.0121,  ..., 0.0119, 0.0104, 0.0188],\n",
       "        [0.0089, 0.0115, 0.0097,  ..., 0.0095, 0.0084, 0.0150]])"
      ]
     },
     "execution_count": 43,
     "metadata": {},
     "output_type": "execute_result"
    }
   ],
   "source": [
    "bird_att_map"
   ]
  },
  {
   "cell_type": "code",
   "execution_count": 44,
   "id": "1dda5153",
   "metadata": {
    "scrolled": false
   },
   "outputs": [
    {
     "name": "stdout",
     "output_type": "stream",
     "text": [
      "Saving figure bird_attention_matrix\n"
     ]
    },
    {
     "data": {
      "image/png": "[encoded data removed]",
      "text/plain": [
       "<Figure size 640x480 with 1 Axes>"
      ]
     },
     "metadata": {},
     "output_type": "display_data"
    }
   ],
   "source": [
    "plot_image(bird_att_map, save=True, fig_id='bird_attention_matrix')"
   ]
  },
  {
   "cell_type": "code",
   "execution_count": 54,
   "id": "b8a6d050",
   "metadata": {},
   "outputs": [],
   "source": [
    "sailboat_att_map = get_patches_attention_map(vit_model, sailboat)"
   ]
  },
  {
   "cell_type": "code",
   "execution_count": 55,
   "id": "48307bd4",
   "metadata": {},
   "outputs": [
    {
     "name": "stdout",
     "output_type": "stream",
     "text": [
      "Saving figure sailboat_attention_matrix\n"
     ]
    },
    {
     "data": {
      "image/png": "[encoded data removed]",
      "text/plain": [
       "<Figure size 640x480 with 1 Axes>"
      ]
     },
     "metadata": {},
     "output_type": "display_data"
    }
   ],
   "source": [
    "plot_image(sailboat_att_map, save=True, fig_id='sailboat_attention_matrix')"
   ]
  },
  {
   "cell_type": "code",
   "execution_count": 56,
   "id": "fc775853",
   "metadata": {},
   "outputs": [],
   "source": [
    "truck_att_map = get_patches_attention_map(vit_model, truck)"
   ]
  },
  {
   "cell_type": "code",
   "execution_count": 57,
   "id": "e1ad734a",
   "metadata": {},
   "outputs": [],
   "source": [
    "frog_att_map = get_patches_attention_map(vit_model, frog)"
   ]
  },
  {
   "cell_type": "code",
   "execution_count": 58,
   "id": "d5a1e271",
   "metadata": {},
   "outputs": [],
   "source": [
    "from torchvision.transforms.functional import resize"
   ]
  },
  {
   "cell_type": "code",
   "execution_count": 59,
   "id": "38b691fd",
   "metadata": {},
   "outputs": [
    {
     "data": {
      "text/plain": [
       "torch.Size([65, 65])"
      ]
     },
     "execution_count": 59,
     "metadata": {},
     "output_type": "execute_result"
    }
   ],
   "source": [
    "frog_att_map.shape"
   ]
  },
  {
   "cell_type": "code",
   "execution_count": 60,
   "id": "401a561d",
   "metadata": {},
   "outputs": [
    {
     "data": {
      "image/png": "[encoded data removed]",
      "text/plain": [
       "<Figure size 640x480 with 1 Axes>"
      ]
     },
     "metadata": {},
     "output_type": "display_data"
    }
   ],
   "source": [
    "plot_image(frog_att_map)"
   ]
  },
  {
   "cell_type": "code",
   "execution_count": 65,
   "id": "a0fb9de2",
   "metadata": {},
   "outputs": [
    {
     "data": {
      "image/png": "[encoded data removed]",
      "text/plain": [
       "<Figure size 640x480 with 1 Axes>"
      ]
     },
     "metadata": {},
     "output_type": "display_data"
    }
   ],
   "source": [
    "plt.bar(np.arange(65), list(frog_att_map[0, :]))\n",
    "plt.show()"
   ]
  },
  {
   "cell_type": "code",
   "execution_count": 70,
   "id": "b3e8dd13",
   "metadata": {},
   "outputs": [
    {
     "data": {
      "image/png": "[encoded data removed]",
      "text/plain": [
       "<Figure size 640x480 with 1 Axes>"
      ]
     },
     "metadata": {},
     "output_type": "display_data"
    }
   ],
   "source": [
    "plot_image(frog_att_map[0, 1:].reshape(8, 8))"
   ]
  },
  {
   "cell_type": "code",
   "execution_count": 75,
   "id": "d877c027",
   "metadata": {},
   "outputs": [],
   "source": [
    "import torchvision"
   ]
  },
  {
   "cell_type": "code",
   "execution_count": 106,
   "id": "231a5be8",
   "metadata": {},
   "outputs": [],
   "source": [
    "def plot_image_with_attention(\n",
    "    image: torch.Tensor,\n",
    "    att_matrix: torch.Tensor,\n",
    "    fig_id=None\n",
    ") -> None:\n",
    "    \n",
    "    image = torch.clone(image)\n",
    "    att_matrix = torch.clone(att_matrix)\n",
    "    \n",
    "    im_size = image.shape[-1]\n",
    "    n_patches = att_matrix.shape[-1] - 1\n",
    "    assert im_size % np.sqrt(n_patches) == 0\n",
    "    patch_size = im_size // int(np.sqrt(n_patches))\n",
    "    \n",
    "    if image.min().item() < 0:\n",
    "        image = (image - image.min().item())  / (image - image.min().item() + image.max().item())\n",
    "    \n",
    "    plt.figure(figsize=(12, 6))\n",
    "    \n",
    "    # plot original image\n",
    "    plt.subplot(121)\n",
    "    plt.axis(\"off\")\n",
    "    plt.title('Original image')\n",
    "    plt.imshow(np.moveaxis(image.detach().numpy(), 0, -1))\n",
    "    \n",
    "    plt.subplot(122)\n",
    "    plt.axis(\"off\")\n",
    "    plt.title('Attention map')\n",
    "    \n",
    "    #  plot attention with regard to cls token\n",
    "    enlarged_attention_map = att_matrix[0, 1:].reshape(\n",
    "        int(np.sqrt(n_patches)), int(np.sqrt(n_patches))\n",
    "    )\n",
    "    enlarged_attention_map = resize(\n",
    "        enlarged_attention_map.unsqueeze(0), size=(im_size, im_size),\n",
    "        interpolation=torchvision.transforms.InterpolationMode.NEAREST\n",
    "    ).squeeze()\n",
    "    plt.imshow(np.moveaxis(enlarged_attention_map.detach().numpy(), 0, -1), cmap='jet')\n",
    "\n",
    "    if fig_id is not None:\n",
    "        save_fig(fig_id)\n",
    "    plt.show()"
   ]
  },
  {
   "cell_type": "code",
   "execution_count": 107,
   "id": "43e78d10",
   "metadata": {},
   "outputs": [
    {
     "name": "stdout",
     "output_type": "stream",
     "text": [
      "Saving figure bird_attention_map\n"
     ]
    },
    {
     "data": {
      "image/png": "[encoded data removed]",
      "text/plain": [
       "<Figure size 1200x600 with 2 Axes>"
      ]
     },
     "metadata": {},
     "output_type": "display_data"
    }
   ],
   "source": [
    "plot_image_with_attention(bird, bird_att_map, fig_id='bird_attention_map')"
   ]
  },
  {
   "cell_type": "code",
   "execution_count": 108,
   "id": "85ab0c8d",
   "metadata": {},
   "outputs": [
    {
     "name": "stdout",
     "output_type": "stream",
     "text": [
      "Saving figure sailboat_attention_map\n"
     ]
    },
    {
     "data": {
      "image/png": "[encoded data removed]",
      "text/plain": [
       "<Figure size 1200x600 with 2 Axes>"
      ]
     },
     "metadata": {},
     "output_type": "display_data"
    }
   ],
   "source": [
    "plot_image_with_attention(sailboat, sailboat_att_map, fig_id='sailboat_attention_map')"
   ]
  },
  {
   "cell_type": "code",
   "execution_count": 109,
   "id": "250e3cf5",
   "metadata": {},
   "outputs": [
    {
     "name": "stdout",
     "output_type": "stream",
     "text": [
      "Saving figure truck_attention_map\n"
     ]
    },
    {
     "data": {
      "image/png": "[encoded data removed]",
      "text/plain": [
       "<Figure size 1200x600 with 2 Axes>"
      ]
     },
     "metadata": {},
     "output_type": "display_data"
    }
   ],
   "source": [
    "plot_image_with_attention(truck, truck_att_map, fig_id='truck_attention_map')"
   ]
  },
  {
   "cell_type": "code",
   "execution_count": 110,
   "id": "2950d683",
   "metadata": {},
   "outputs": [
    {
     "name": "stdout",
     "output_type": "stream",
     "text": [
      "Saving figure frog_attention_map\n"
     ]
    },
    {
     "data": {
      "image/png": "[encoded data removed]",
      "text/plain": [
       "<Figure size 1200x600 with 2 Axes>"
      ]
     },
     "metadata": {},
     "output_type": "display_data"
    }
   ],
   "source": [
    "plot_image_with_attention(frog, frog_att_map, fig_id='frog_attention_map')"
   ]
  }
 ],
 "metadata": {
  "kernelspec": {
   "display_name": "Python 3 (ipykernel)",
   "language": "python",
   "name": "python3"
  },
  "language_info": {
   "codemirror_mode": {
    "name": "ipython",
    "version": 3
   },
   "file_extension": ".py",
   "mimetype": "text/x-python",
   "name": "python",
   "nbconvert_exporter": "python",
   "pygments_lexer": "ipython3",
   "version": "3.9.13"
  }
 },
 "nbformat": 4,
 "nbformat_minor": 5
}
